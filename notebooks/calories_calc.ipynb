{
 "cells": [
  {
   "cell_type": "code",
   "execution_count": 3,
   "metadata": {},
   "outputs": [
    {
     "name": "stdout",
     "output_type": "stream",
     "text": [
      "{\"items\": [{\"name\": \"chicken\", \"calories\": 222.6, \"serving_size_g\": 100.0, \"fat_total_g\": 12.9, \"fat_saturated_g\": 3.7, \"protein_g\": 23.7, \"sodium_mg\": 72, \"potassium_mg\": 179, \"cholesterol_mg\": 92, \"carbohydrates_total_g\": 0.0, \"fiber_g\": 0.0, \"sugar_g\": 0.0}]}\n"
     ]
    }
   ],
   "source": [
    "import requests \n",
    "\n",
    "api_key = 'your API key'\n",
    "query = 'chicken'\n",
    "api_url = 'https://api.calorieninjas.com/v1/nutrition?query={}'.format(query)\n",
    "\n",
    "# Make GET request with API key\n",
    "response = requests.get(api_url, headers={'X-Api-Key': api_key})\n",
    "\n",
    "# Check response status\n",
    "if response.status_code == requests.codes.ok:\n",
    "    print(response.text)  # Print response text\n",
    "else:\n",
    "    print(\"Error:\", response.status_code, response.text) "
   ]
  },
  {
   "cell_type": "code",
   "execution_count": null,
   "metadata": {},
   "outputs": [],
   "source": []
  }
 ],
 "metadata": {
  "kernelspec": {
   "display_name": "Python 3",
   "language": "python",
   "name": "python3"
  },
  "language_info": {
   "codemirror_mode": {
    "name": "ipython",
    "version": 3
   },
   "file_extension": ".py",
   "mimetype": "text/x-python",
   "name": "python",
   "nbconvert_exporter": "python",
   "pygments_lexer": "ipython3",
   "version": "3.10.0"
  }
 },
 "nbformat": 4,
 "nbformat_minor": 2
}
